{
 "cells": [
  {
   "cell_type": "code",
   "execution_count": 5,
   "metadata": {},
   "outputs": [
    {
     "data": {
      "text/plain": [
       "['Armenia.xlsx',\n",
       " 'Belarus.xlsx',\n",
       " 'Estonia.xlsx',\n",
       " 'Georgia.xlsx',\n",
       " 'Kazakhstan.xlsx',\n",
       " 'Kyrgyzstan.xlsx',\n",
       " 'Moldova.xlsx',\n",
       " 'Ukraine.xlsx',\n",
       " 'Uzbekistan.xlsx']"
      ]
     },
     "execution_count": 5,
     "metadata": {},
     "output_type": "execute_result"
    }
   ],
   "source": [
    "import os \n",
    "\n",
    "os.listdir(\"inflation_excel\")"
   ]
  },
  {
   "cell_type": "code",
   "execution_count": 4,
   "metadata": {},
   "outputs": [],
   "source": [
    "import pandas as pd\n",
    "excels = [['Armenia.xlsx',\n",
    " 'Belarus.xlsx',\n",
    " 'Estonia.xlsx',\n",
    " 'Georgia.xlsx',\n",
    " 'Kazakhstan.xlsx',\n",
    " 'Kyrgyzstan.xlsx',\n",
    " 'Moldova.xlsx',\n",
    " 'Ukraine.xlsx',\n",
    " 'Uzbekistan.xlsx']]\n",
    "\n",
    "os.makedirs('inflation_csv', exist_ok=True)\n",
    "for excel in excels:\n",
    "    for file in excel:\n",
    "        df = pd.read_excel('inflation_excel/' + file)\n",
    "        df.to_csv('inflation_csv/' + file.split('.')[0] + '.csv', index=False)"
   ]
  },
  {
   "cell_type": "code",
   "execution_count": 6,
   "metadata": {},
   "outputs": [
    {
     "data": {
      "text/plain": [
       "['Armenia.csv',\n",
       " 'Belarus.csv',\n",
       " 'Estonia.csv',\n",
       " 'Georgia.csv',\n",
       " 'Kazakhstan.csv',\n",
       " 'Kyrgyzstan.csv',\n",
       " 'Moldova.csv',\n",
       " 'Ukraine.csv',\n",
       " 'Uzbekistan.csv']"
      ]
     },
     "execution_count": 6,
     "metadata": {},
     "output_type": "execute_result"
    }
   ],
   "source": [
    "os.listdir('inflation_csv')"
   ]
  },
  {
   "cell_type": "code",
   "execution_count": 16,
   "metadata": {},
   "outputs": [],
   "source": [
    "import pandas as pd\n",
    "import numpy as np\n",
    "import matplotlib.pyplot as plt\n",
    "import seaborn as sns\n",
    "from datetime import datetime\n",
    "from sklearn.preprocessing import StandardScaler\n",
    "from sklearn.model_selection import train_test_split, TimeSeriesSplit, GridSearchCV\n",
    "from sklearn.metrics import mean_squared_error, mean_absolute_error, r2_score\n",
    "import warnings\n",
    "warnings.filterwarnings('ignore')\n",
    "\n",
    "# Step 1: Load and prepare data for each country\n",
    "countries = []  # List to store dataframes for each country\n",
    "country_names = []  # List to store country names\n",
    "\n",
    "# Assuming you have 14 CSV files named as 'country_name.csv'\n",
    "for country_file in os.listdir('inflation_csv'):\n",
    "    country_name = country_file.split('.')[0]\n",
    "    country_names.append(country_name)\n",
    "    \n",
    "    # Load data\n",
    "    df = pd.read_csv('inflation_csv/' + country_file)\n",
    "    \n",
    "    # Convert date to datetime\n",
    "    df['Date'] = pd.to_datetime(df['Date'])\n",
    "    \n",
    "    # Sort by date\n",
    "    df = df.sort_values('Date').reset_index(drop=True)\n",
    "    \n",
    "    # Add country name\n",
    "    df['Country'] = country_name\n",
    "    \n",
    "    countries.append(df)\n",
    "\n",
    "# Step 2: Feature engineering for time series\n",
    "def create_features(df):\n",
    "    # Create copy of dataframe\n",
    "    df_featured = df.copy()\n",
    "    \n",
    "    # Extract date features\n",
    "    df_featured['Year'] = df_featured['Date'].dt.year\n",
    "    df_featured['Month'] = df_featured['Date'].dt.month\n",
    "    df_featured['Quarter'] = df_featured['Date'].dt.quarter\n",
    "    \n",
    "    # Create lagged features (previous months' CPIs)\n",
    "    for lag in range(1, 13):  # Create lags up to 12 months\n",
    "        df_featured[f'CPI_lag_{lag}'] = df_featured['CPI'].shift(lag)\n",
    "    \n",
    "    # Create rolling mean features\n",
    "    for window in [3, 6, 12]:\n",
    "        df_featured[f'CPI_rolling_mean_{window}'] = df_featured['CPI'].rolling(window=window).mean()\n",
    "    \n",
    "    # Create rolling standard deviation (volatility)\n",
    "    for window in [3, 6, 12]:\n",
    "        df_featured[f'CPI_rolling_std_{window}'] = df_featured['CPI'].rolling(window=window).std()\n",
    "    \n",
    "    # Year-over-Year percentage change\n",
    "    df_featured['CPI_YoY'] = df_featured['CPI'].pct_change(12) * 100\n",
    "    \n",
    "    # Month-over-Month percentage change\n",
    "    df_featured['CPI_MoM'] = df_featured['CPI'].pct_change() * 100\n",
    "    \n",
    "    # Drop rows with NaN values (from lag operations)\n",
    "    df_featured = df_featured.dropna()\n",
    "    \n",
    "    return df_featured\n",
    "\n",
    "# Apply feature engineering to each country\n",
    "countries_featured = []\n",
    "for df in countries:\n",
    "    countries_featured.append(create_features(df))"
   ]
  },
  {
   "cell_type": "code",
   "execution_count": 24,
   "metadata": {},
   "outputs": [
    {
     "name": "stdout",
     "output_type": "stream",
     "text": [
      "^C\n"
     ]
    }
   ],
   "source": [
    "!pip install xgboost"
   ]
  },
  {
   "cell_type": "code",
   "execution_count": null,
   "metadata": {},
   "outputs": [
    {
     "ename": "ModuleNotFoundError",
     "evalue": "No module named 'xgboost'",
     "output_type": "error",
     "traceback": [
      "\u001b[1;31m---------------------------------------------------------------------------\u001b[0m",
      "\u001b[1;31mModuleNotFoundError\u001b[0m                       Traceback (most recent call last)",
      "Cell \u001b[1;32mIn[23], line 4\u001b[0m\n\u001b[0;32m      2\u001b[0m \u001b[38;5;28;01mfrom\u001b[39;00m \u001b[38;5;21;01msklearn\u001b[39;00m\u001b[38;5;21;01m.\u001b[39;00m\u001b[38;5;21;01mensemble\u001b[39;00m \u001b[38;5;28;01mimport\u001b[39;00m RandomForestRegressor, GradientBoostingRegressor\n\u001b[0;32m      3\u001b[0m \u001b[38;5;28;01mfrom\u001b[39;00m \u001b[38;5;21;01msklearn\u001b[39;00m\u001b[38;5;21;01m.\u001b[39;00m\u001b[38;5;21;01msvm\u001b[39;00m \u001b[38;5;28;01mimport\u001b[39;00m SVR\n\u001b[1;32m----> 4\u001b[0m \u001b[38;5;28;01mfrom\u001b[39;00m \u001b[38;5;21;01mxgboost\u001b[39;00m \u001b[38;5;28;01mimport\u001b[39;00m XGBRegressor\n\u001b[0;32m      5\u001b[0m \u001b[38;5;28;01mfrom\u001b[39;00m \u001b[38;5;21;01msklearn\u001b[39;00m\u001b[38;5;21;01m.\u001b[39;00m\u001b[38;5;21;01mmultioutput\u001b[39;00m \u001b[38;5;28;01mimport\u001b[39;00m MultiOutputRegressor\n\u001b[0;32m      7\u001b[0m \u001b[38;5;66;03m# Step 3: Train-test split with time series consideration\u001b[39;00m\n",
      "\u001b[1;31mModuleNotFoundError\u001b[0m: No module named 'xgboost'"
     ]
    }
   ],
   "source": [
    "from sklearn.linear_model import LinearRegression, ElasticNet\n",
    "from sklearn.ensemble import RandomForestRegressor, GradientBoostingRegressor\n",
    "from sklearn.svm import SVR\n",
    "from xgboost import XGBRegressor\n",
    "from sklearn.multioutput import MultiOutputRegressor\n",
    "\n",
    "# Step 3: Train-test split with time series consideration\n",
    "def prepare_data_for_modeling(df, target_col='CPI', test_size=0.2):\n",
    "    # Sort by date\n",
    "    df = df.sort_values('Date')\n",
    "    \n",
    "    # Define split point for time-based validation\n",
    "    split_idx = int(len(df) * (1 - test_size))\n",
    "    \n",
    "    # Split data\n",
    "    train_df = df.iloc[:split_idx, :]\n",
    "    test_df = df.iloc[split_idx:, :]\n",
    "    \n",
    "    # Define features and target\n",
    "    feature_cols = [col for col in df.columns if col not in ['Date', target_col, 'Country']]\n",
    "    \n",
    "    X_train = train_df[feature_cols]\n",
    "    y_train = train_df[target_col]\n",
    "    X_test = test_df[feature_cols]\n",
    "    y_test = test_df[target_col]\n",
    "    \n",
    "    # Scale features\n",
    "    scaler = StandardScaler()\n",
    "    X_train_scaled = scaler.fit_transform(X_train)\n",
    "    X_test_scaled = scaler.transform(X_test)\n",
    "    \n",
    "    return X_train_scaled, X_test_scaled, y_train, y_test, test_df['Date'], scaler, feature_cols\n",
    "\n",
    "# Define models to test\n",
    "def get_models():\n",
    "    models = {\n",
    "        'Linear Regression': LinearRegression(),\n",
    "        'ElasticNet': ElasticNet(alpha=0.5, l1_ratio=0.5),\n",
    "        'SVR': SVR(kernel='rbf', C=100, gamma='auto'),\n",
    "        'Random Forest': RandomForestRegressor(n_estimators=100, random_state=42),\n",
    "        'Gradient Boosting': GradientBoostingRegressor(n_estimators=100, random_state=42),\n",
    "        'XGBoost': XGBRegressor(n_estimators=100, learning_rate=0.1, random_state=42)\n",
    "    }\n",
    "    return models\n",
    "\n",
    "# Step 4: Evaluate models for each country\n",
    "results = {}\n",
    "best_models = {}\n",
    "feature_importance = {}\n",
    "\n",
    "for i, df in enumerate(countries_featured):\n",
    "    country = country_names[i]\n",
    "    print(f\"\\nModeling for {country}:\")\n",
    "    \n",
    "    # Prepare data\n",
    "    X_train, X_test, y_train, y_test, test_dates, scaler, feature_cols = prepare_data_for_modeling(df)\n",
    "    \n",
    "    # Get models\n",
    "    models = get_models()\n",
    "    country_results = {}\n",
    "    \n",
    "    # Train and evaluate each model\n",
    "    for name, model in models.items():\n",
    "        # Train\n",
    "        model.fit(X_train, y_train)\n",
    "        \n",
    "        # Predict\n",
    "        y_pred = model.predict(X_test)\n",
    "        \n",
    "        # Evaluate\n",
    "        mse = mean_squared_error(y_test, y_pred)\n",
    "        rmse = np.sqrt(mse)\n",
    "        mae = mean_absolute_error(y_test, y_pred)\n",
    "        r2 = r2_score(y_test, y_pred)\n",
    "        \n",
    "        # Store results\n",
    "        country_results[name] = {\n",
    "            'MSE': mse,\n",
    "            'RMSE': rmse,\n",
    "            'MAE': mae,\n",
    "            'R2': r2\n",
    "        }\n",
    "        \n",
    "        print(f\"{name} - RMSE: {rmse:.4f}, MAE: {mae:.4f}, R2: {r2:.4f}\")\n",
    "    \n",
    "    # Find best model for this country\n",
    "    best_model_name = min(country_results, key=lambda x: country_results[x]['RMSE'])\n",
    "    best_models[country] = models[best_model_name]\n",
    "    \n",
    "    # Extract feature importance if applicable\n",
    "    if best_model_name in ['Random Forest', 'Gradient Boosting', 'XGBoost']:\n",
    "        if hasattr(best_models[country], 'feature_importances_'):\n",
    "            importances = best_models[country].feature_importances_\n",
    "            feature_importance[country] = dict(zip(feature_cols, importances))\n",
    "    \n",
    "    results[country] = country_results\n"
   ]
  },
  {
   "cell_type": "code",
   "execution_count": null,
   "metadata": {},
   "outputs": [],
   "source": []
  }
 ],
 "metadata": {
  "kernelspec": {
   "display_name": "base",
   "language": "python",
   "name": "python3"
  },
  "language_info": {
   "codemirror_mode": {
    "name": "ipython",
    "version": 3
   },
   "file_extension": ".py",
   "mimetype": "text/x-python",
   "name": "python",
   "nbconvert_exporter": "python",
   "pygments_lexer": "ipython3",
   "version": "3.12.3"
  }
 },
 "nbformat": 4,
 "nbformat_minor": 2
}
